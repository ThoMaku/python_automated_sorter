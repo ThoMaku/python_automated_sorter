{
 "cells": [
  {
   "cell_type": "code",
   "execution_count": 40,
   "id": "8259d3d0-3628-4e8d-ae0f-ab1146cc5c33",
   "metadata": {},
   "outputs": [],
   "source": [
    "import os, shutil"
   ]
  },
  {
   "cell_type": "code",
   "execution_count": 41,
   "id": "d147659d-57b8-445e-b0c3-b9cfabdc258c",
   "metadata": {},
   "outputs": [],
   "source": [
    "path = r\"C:/Users/Makunyane/Desktop/Alex the Analyst Bootcamp/Python/\""
   ]
  },
  {
   "cell_type": "code",
   "execution_count": 42,
   "id": "65ebb542-ef88-4e58-89f8-f9070011ae93",
   "metadata": {},
   "outputs": [],
   "source": [
    "file_name = os.listdir(path)"
   ]
  },
  {
   "cell_type": "code",
   "execution_count": 43,
   "id": "b64c604f-41de-45d1-b308-5d1458525afe",
   "metadata": {},
   "outputs": [],
   "source": [
    "folder_names = [\"Image files\",\"Text files\",\"Excel files\"]\n",
    "\n",
    "for loop in range(0,3):\n",
    "    if not os.path.exists(path = folder_names[loop]):\n",
    "        os.makedirs(path + folder_names[loop])"
   ]
  },
  {
   "cell_type": "code",
   "execution_count": 44,
   "id": "f4b4b04b-5744-4bcd-82ad-4454afc8c7c8",
   "metadata": {},
   "outputs": [],
   "source": [
    "for file in file_name:\n",
    "    if \".xlsx\" in file and not os.path.exists(path + \"Excel files/\" + file):\n",
    "        shutil.move(path + file, path + \"Excel files/\" + file)\n",
    "    elif \".txt\" in file and not os.path.exists(path + \"Text files/\" + file):\n",
    "        shutil.move(path + file , path + \"Text files/\" + file)\n",
    "    elif \".jpeg\" in file and not os.path.exists(path + \"Image files/\" + file):\n",
    "        shutil.move(path + file , path + \"Image files/\" + file)"
   ]
  },
  {
   "cell_type": "code",
   "execution_count": null,
   "id": "5e0e85dd-2559-44ac-82cb-78bc951f8b59",
   "metadata": {},
   "outputs": [],
   "source": []
  }
 ],
 "metadata": {
  "kernelspec": {
   "display_name": "Python 3 (ipykernel)",
   "language": "python",
   "name": "python3"
  },
  "language_info": {
   "codemirror_mode": {
    "name": "ipython",
    "version": 3
   },
   "file_extension": ".py",
   "mimetype": "text/x-python",
   "name": "python",
   "nbconvert_exporter": "python",
   "pygments_lexer": "ipython3",
   "version": "3.11.7"
  }
 },
 "nbformat": 4,
 "nbformat_minor": 5
}
